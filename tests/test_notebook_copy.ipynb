{
 "cells": [
  {
   "cell_type": "code",
   "execution_count": null,
   "metadata": {},
   "outputs": [],
   "source": [
    "# Test Case 1: Simple SELECT Query\n",
    "query = \"select id, name from users where active = 1\"\n",
    "print(query)"
   ]
  },
  {
   "cell_type": "code",
   "execution_count": null,
   "metadata": {},
   "outputs": [],
   "source": [
    "# Test Case 2: SELECT Query with F-Strings\n",
    "table_name = \"users\"\n",
    "status = \"active\"\n",
    "\n",
    "query = f\"select id, name from {table_name} where status = '{status}'\"\n",
    "print(query)"
   ]
  },
  {
   "cell_type": "code",
   "execution_count": null,
   "metadata": {},
   "outputs": [],
   "source": [
    "# Test Case 3: Multi-line SELECT Query\n",
    "query = \"\"\"\n",
    "select id, name, email\n",
    "from users\n",
    "where active = 1\n",
    "order by name\n",
    "\"\"\"\n",
    "print(query)"
   ]
  },
  {
   "cell_type": "code",
   "execution_count": null,
   "metadata": {},
   "outputs": [],
   "source": [
    "# Test Case 4: Multi-line SELECT Query with F-Strings\n",
    "columns = \"id, name, email\"\n",
    "table_name = \"users\"\n",
    "order_column = \"name\"\n",
    "\n",
    "query = f\"\"\"\n",
    "select {columns}\n",
    "from {table_name}\n",
    "where active = 1\n",
    "order by {order_column}\n",
    "\"\"\"\n",
    "print(query)"
   ]
  },
  {
   "cell_type": "code",
   "execution_count": null,
   "metadata": {},
   "outputs": [],
   "source": [
    "# Test Case 5: SQL Query with Line Magic Command\n",
    "%sql select * from users where active = 1"
   ]
  },
  {
   "cell_type": "code",
   "execution_count": null,
   "metadata": {},
   "outputs": [],
   "source": [
    "# Test Case 6: SQL Query with Cell Magic Command\n",
    "%%sql\n",
    "select *\n",
    "from users\n",
    "where active = 1"
   ]
  },
  {
   "cell_type": "code",
   "execution_count": null,
   "metadata": {},
   "outputs": [],
   "source": [
    "# Test Case 7: INSERT Query with F-Strings\n",
    "table_name = \"users\"\n",
    "columns = \"(id, name, email)\"\n",
    "values = \"(1, 'John Doe', 'john@example.com')\"\n",
    "\n",
    "query = f\"insert into {table_name} {columns} values {values}\"\n",
    "print(query)"
   ]
  },
  {
   "cell_type": "code",
   "execution_count": null,
   "metadata": {},
   "outputs": [],
   "source": [
    "# Test Case 8: UPDATE Query with F-Strings\n",
    "table_name = \"users\"\n",
    "new_status = \"inactive\"\n",
    "user_id = 1\n",
    "\n",
    "query = f\"update {table_name} set status = '{new_status}' where id = {user_id}\"\n",
    "print(query)"
   ]
  },
  {
   "cell_type": "code",
   "execution_count": null,
   "metadata": {},
   "outputs": [],
   "source": [
    "# Test Case 9: DELETE Query with F-Strings\n",
    "table_name = \"users\"\n",
    "user_id = 1\n",
    "\n",
    "query = f\"delete from {table_name} where id = {user_id}\"\n",
    "print(query)"
   ]
  },
  {
   "cell_type": "code",
   "execution_count": null,
   "metadata": {},
   "outputs": [],
   "source": [
    "# Test Case 10: Query with Comments\n",
    "query = \"\"\"\n",
    "-- Select all active users\n",
    "select id, name\n",
    "from users\n",
    "where active = 1  -- Only active users\n",
    "order by name\n",
    "\"\"\"\n",
    "print(query)"
   ]
  },
  {
   "cell_type": "code",
   "execution_count": null,
   "metadata": {},
   "outputs": [],
   "source": [
    "# Test Case 11: Query with Complex Expressions in F-Strings\n",
    "table_name = \"users\"\n",
    "columns = [\"id\", \"name\", \"email\"]\n",
    "conditions = \" and \".join([\"active = 1\", \"email IS NOT NULL\"])\n",
    "\n",
    "query = f\"\"\"\n",
    "select {', '.join(columns)}\n",
    "from {table_name}\n",
    "where {conditions}\n",
    "\"\"\"\n",
    "print(query)"
   ]
  },
  {
   "cell_type": "code",
   "execution_count": null,
   "metadata": {},
   "outputs": [],
   "source": [
    "# Test Case 12: Query with String Literals Containing SQL-like Syntax\n",
    "message = \"This is not an SQL query: select * from users;\"\n",
    "print(message)"
   ]
  },
  {
   "cell_type": "code",
   "execution_count": null,
   "metadata": {},
   "outputs": [],
   "source": [
    "# Test Case 13: Empty Query String\n",
    "query = \"\"\n",
    "print(query)"
   ]
  },
  {
   "cell_type": "code",
   "execution_count": null,
   "metadata": {},
   "outputs": [],
   "source": [
    "# Test Case 14: Non-SQL String\n",
    "text = \"Hello, World!\"\n",
    "print(text)"
   ]
  },
  {
   "cell_type": "code",
   "execution_count": null,
   "metadata": {},
   "outputs": [],
   "source": [
    "# Test Case 15: Query with `%s` Placeholders\n",
    "query = \"select id, name from users where status = %s and active = %s\"\n",
    "print(query)"
   ]
  },
  {
   "cell_type": "code",
   "execution_count": null,
   "metadata": {},
   "outputs": [],
   "source": [
    "# Test Case 16: Query Using Named Parameters\n",
    "query = \"select id, name from users where status = :status and active = :active\"\n",
    "print(query)"
   ]
  },
  {
   "cell_type": "code",
   "execution_count": null,
   "metadata": {},
   "outputs": [],
   "source": [
    "# Test Case 17: Query with Subqueries\n",
    "query = \"\"\"\n",
    "select id, name\n",
    "from users\n",
    "where id in (select user_id from orders where total > 100)\n",
    "\"\"\"\n",
    "print(query)"
   ]
  },
  {
   "cell_type": "code",
   "execution_count": null,
   "metadata": {},
   "outputs": [],
   "source": [
    "# Test Case 18: Query with JOIN Clauses\n",
    "query = \"\"\"\n",
    "select users.id, users.name, orders.total\n",
    "from users\n",
    "join orders on users.id = orders.user_id\n",
    "where orders.date > '2023-01-01'\n",
    "\"\"\"\n",
    "print(query)"
   ]
  },
  {
   "cell_type": "code",
   "execution_count": null,
   "metadata": {},
   "outputs": [],
   "source": [
    "# Test Case 19: Query with Aggregation Functions\n",
    "query = \"\"\"\n",
    "select status, count(*) as user_count\n",
    "from users\n",
    "group by status\n",
    "having count(*) > 10\n",
    "order by user_count desc\n",
    "\"\"\"\n",
    "print(query)"
   ]
  },
  {
   "cell_type": "code",
   "execution_count": null,
   "metadata": {},
   "outputs": [],
   "source": [
    "# Test Case 20: Query with CASE Statements\n",
    "query = \"\"\"\n",
    "select\n",
    "    id,\n",
    "    name,\n",
    "    case\n",
    "        when active = 1 then 'Active'\n",
    "        else 'Inactive'\n",
    "    end as status_label\n",
    "from users\n",
    "\"\"\"\n",
    "print(query)"
   ]
  },
  {
   "cell_type": "code",
   "execution_count": null,
   "metadata": {},
   "outputs": [],
   "source": []
  }
 ],
 "metadata": {
  "kernelspec": {
   "display_name": ".venv",
   "language": "python",
   "name": "python3"
  },
  "language_info": {
   "name": "python",
   "version": "3.12.6"
  }
 },
 "nbformat": 4,
 "nbformat_minor": 2
}
