{
 "cells": [
  {
   "cell_type": "code",
   "execution_count": null,
   "metadata": {},
   "outputs": [],
   "source": [
    "query = \"\"\"\n",
    "SELECT\n",
    "  id,\n",
    "  name\n",
    "FROM users\n",
    "WHERE\n",
    "  active = 1\n",
    "\"\"\"\n",
    "print(query)\n"
   ]
  },
  {
   "cell_type": "code",
   "execution_count": null,
   "metadata": {},
   "outputs": [],
   "source": [
    "table_name = 'users'\n",
    "status = 'active'\n",
    "query = f\"\"\"\n",
    "SELECT\n",
    "  id,\n",
    "  name\n",
    "FROM {table_name}\n",
    "WHERE\n",
    "  status = {status}\n",
    "\"\"\"\n",
    "print(query)\n"
   ]
  },
  {
   "cell_type": "code",
   "execution_count": null,
   "metadata": {},
   "outputs": [],
   "source": [
    "query = \"\"\"\n",
    "SELECT\n",
    "  id,\n",
    "  name,\n",
    "  email\n",
    "FROM users\n",
    "WHERE\n",
    "  active = 1\n",
    "ORDER BY\n",
    "  name\n",
    "\"\"\"\n",
    "print(query)\n"
   ]
  },
  {
   "cell_type": "code",
   "execution_count": null,
   "metadata": {},
   "outputs": [],
   "source": [
    "columns = 'id, name, email'\n",
    "table_name = 'users'\n",
    "order_column = 'name'\n",
    "query = f\"\"\"\n",
    "SELECT\n",
    "  {columns}\n",
    "FROM {table_name}\n",
    "WHERE\n",
    "  active = 1\n",
    "ORDER BY\n",
    "  {order_column}\n",
    "\"\"\"\n",
    "print(query)\n"
   ]
  },
  {
   "cell_type": "code",
   "execution_count": null,
   "metadata": {},
   "outputs": [],
   "source": [
    "# Test Case 5: SQL Query with Line Magic Command\n",
    "%sql SELECT * FROM users WHERE active = 1"
   ]
  },
  {
   "cell_type": "code",
   "execution_count": null,
   "metadata": {},
   "outputs": [],
   "source": [
    "# Test Case 6: SQL Query with Cell Magic Command\n",
    "%%sql\n",
    "SELECT\n",
    "  *\n",
    "FROM users\n",
    "WHERE\n",
    "  active = 1"
   ]
  },
  {
   "cell_type": "code",
   "execution_count": null,
   "metadata": {},
   "outputs": [],
   "source": [
    "# Test Case 7: INSERT Query with F-Strings\n",
    "table_name = \"users\"\n",
    "columns = \"(id, name, email)\"\n",
    "values = \"(1, 'John Doe', 'john@example.com')\"\n",
    "\n",
    "query = f\"insert into {table_name} {columns} values {values}\"\n",
    "print(query)"
   ]
  },
  {
   "cell_type": "code",
   "execution_count": null,
   "metadata": {},
   "outputs": [],
   "source": [
    "table_name = 'users'\n",
    "new_status = 'inactive'\n",
    "user_id = 1\n",
    "query = f\"\"\"\n",
    "UPDATE {table_name} SET status = {new_status}\n",
    "WHERE\n",
    "  id = {user_id}\n",
    "\"\"\"\n",
    "print(query)\n"
   ]
  },
  {
   "cell_type": "code",
   "execution_count": null,
   "metadata": {},
   "outputs": [],
   "source": [
    "table_name = 'users'\n",
    "user_id = 1\n",
    "query = f\"\"\"\n",
    "DELETE FROM {table_name}\n",
    "WHERE\n",
    "  id = {user_id}\n",
    "\"\"\"\n",
    "print(query)\n"
   ]
  },
  {
   "cell_type": "code",
   "execution_count": null,
   "metadata": {},
   "outputs": [],
   "source": [
    "query = '\\n/* Select all active users */\\nSELECT\\n  id,\\n  name\\nFROM users\\nWHERE\\n  active = 1 /* Only active users */\\nORDER BY\\n  name\\n'\n",
    "print(query)"
   ]
  },
  {
   "cell_type": "code",
   "execution_count": null,
   "metadata": {},
   "outputs": [],
   "source": [
    "table_name = 'users'\n",
    "columns = ['id', 'name', 'email']\n",
    "conditions = ' and '.join(['active = 1', 'email IS NOT NULL'])\n",
    "query = f\"\"\"\n",
    "SELECT\n",
    "  {', '.join(columns)}\n",
    "FROM {table_name}\n",
    "WHERE\n",
    "  {conditions}\n",
    "\"\"\"\n",
    "print(query)\n"
   ]
  },
  {
   "cell_type": "code",
   "execution_count": null,
   "metadata": {},
   "outputs": [],
   "source": [
    "# Test Case 12: Query with String Literals Containing SQL-like Syntax\n",
    "message = \"This is not an SQL query: select * from users;\"\n",
    "print(message)"
   ]
  },
  {
   "cell_type": "code",
   "execution_count": null,
   "metadata": {},
   "outputs": [],
   "source": [
    "# Test Case 13: Empty Query String\n",
    "query = \"\"\n",
    "print(query)"
   ]
  },
  {
   "cell_type": "code",
   "execution_count": null,
   "metadata": {},
   "outputs": [],
   "source": [
    "# Test Case 14: Non-SQL String\n",
    "text = \"Hello, World!\"\n",
    "print(text)"
   ]
  },
  {
   "cell_type": "code",
   "execution_count": null,
   "metadata": {},
   "outputs": [],
   "source": [
    "query = \"\"\"\n",
    "SELECT\n",
    "  id,\n",
    "  name\n",
    "FROM users\n",
    "WHERE\n",
    "  status = %s AND active = %s\n",
    "\"\"\"\n",
    "print(query)\n"
   ]
  },
  {
   "cell_type": "code",
   "execution_count": null,
   "metadata": {},
   "outputs": [],
   "source": [
    "query = \"\"\"\n",
    "SELECT\n",
    "  id,\n",
    "  name\n",
    "FROM users\n",
    "WHERE\n",
    "  status = :status AND active = :active\n",
    "\"\"\"\n",
    "print(query)\n"
   ]
  },
  {
   "cell_type": "code",
   "execution_count": null,
   "metadata": {},
   "outputs": [],
   "source": [
    "query = \"\"\"\n",
    "SELECT\n",
    "  id,\n",
    "  name\n",
    "FROM users\n",
    "WHERE\n",
    "  id IN (\n",
    "      SELECT\n",
    "        user_id\n",
    "      FROM orders\n",
    "      WHERE\n",
    "        total > 100\n",
    "  )\n",
    "\"\"\"\n",
    "print(query)\n"
   ]
  },
  {
   "cell_type": "code",
   "execution_count": null,
   "metadata": {},
   "outputs": [],
   "source": [
    "query = \"\"\"\n",
    "SELECT\n",
    "  users.id,\n",
    "  users.name,\n",
    "  orders.total\n",
    "FROM users\n",
    "JOIN orders\n",
    "  ON users.id = orders.user_id\n",
    "WHERE\n",
    "  orders.date > '2023-01-01'\n",
    "\"\"\"\n",
    "print(query)\n"
   ]
  },
  {
   "cell_type": "code",
   "execution_count": null,
   "metadata": {},
   "outputs": [],
   "source": [
    "query = \"\"\"\n",
    "SELECT\n",
    "  status,\n",
    "  COUNT(*) AS user_count\n",
    "FROM users\n",
    "GROUP BY\n",
    "  status\n",
    "HAVING\n",
    "  COUNT(*) > 10\n",
    "ORDER BY\n",
    "  user_count DESC\n",
    "\"\"\"\n",
    "print(query)\n"
   ]
  },
  {
   "cell_type": "code",
   "execution_count": null,
   "metadata": {},
   "outputs": [],
   "source": [
    "query = \"\"\"\n",
    "SELECT\n",
    "  id,\n",
    "  name,\n",
    "  CASE WHEN active = 1 THEN 'Active' ELSE 'Inactive' END AS status_label\n",
    "FROM users\n",
    "\"\"\"\n",
    "print(query)\n"
   ]
  },
  {
   "cell_type": "code",
   "execution_count": null,
   "metadata": {},
   "outputs": [],
   "source": []
  }
 ],
 "metadata": {
  "kernelspec": {
   "display_name": ".venv",
   "language": "python",
   "name": "python3"
  },
  "language_info": {
   "name": "python",
   "version": "3.12.6"
  }
 },
 "nbformat": 4,
 "nbformat_minor": 2
}
